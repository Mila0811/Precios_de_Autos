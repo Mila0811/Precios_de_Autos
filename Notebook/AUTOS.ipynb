{
 "cells": [
  {
   "cell_type": "code",
   "execution_count": null,
   "metadata": {},
   "outputs": [],
   "source": [
    "from sklearn.compose import ColumnTransformer\n",
    "from sklearn.pipeline import Pipeline\n",
    "from sklearn.preprocessing import StandardScaler, OneHotEncoder\n",
    "from sklearn.linear_model import LinearRegression\n",
    "from sklearn.neighbors import KNeighborsRegressor\n",
    "from sklearn.tree import DecisionTreeRegressor\n",
    "from sklearn.model_selection import train_test_split, GridSearchCV\n",
    "from sklearn.metrics import mean_squared_error, r2_score\n",
    "import pandas as pd\n",
    "import numpy as np\n",
    "import matplotlib.pyplot as plt\n",
    "import seaborn as sns\n",
    "\n",
    "df = pd.read_csv(\"../Data/Automobile_data.csv\")  "
   ]
  },
  {
   "cell_type": "code",
   "execution_count": null,
   "metadata": {},
   "outputs": [],
   "source": [
    "df.head(12).T "
   ]
  },
  {
   "cell_type": "code",
   "execution_count": null,
   "metadata": {},
   "outputs": [],
   "source": [
    "df.info() \n",
    "df.describe() "
   ]
  },
  {
   "cell_type": "markdown",
   "metadata": {},
   "source": [
    "Hay algunos datos que figuran como object en vez de como corresponden. Esto es porque no aparecen como NaN y aparecen como ?\n",
    "Se prosede a arregrar remplazando por nan y luego para identificar valores nulos"
   ]
  },
  {
   "cell_type": "code",
   "execution_count": null,
   "metadata": {},
   "outputs": [],
   "source": [
    "df.replace('?', np.nan, inplace = True) \n",
    "print(df.isnull().sum()) "
   ]
  },
  {
   "cell_type": "code",
   "execution_count": null,
   "metadata": {},
   "outputs": [],
   "source": [
    "\n",
    "#Luego de verificar el dataset se considera a estas columnas como numericas que estan como object\n",
    "df['normalized-losses'] = pd.to_numeric(df['normalized-losses'], errors = 'coerce')\n",
    "df['bore'] = pd.to_numeric(df['bore'], errors='coerce')\n",
    "df['stroke'] = pd.to_numeric(df['stroke'], errors='coerce')\n",
    "\n",
    "#normalized-losses lo completaré con el promedio\n",
    "df['normalized-losses'] = df['normalized-losses'].fillna(df['normalized-losses'].mean())\n",
    "#numero de puertas con moda\n",
    "df['num-of-doors'] = df['num-of-doors'].fillna(df['num-of-doors'].mode()[0])\n",
    "#bore y stroke también hare con el promedio\n",
    "\n",
    "df['bore'] = df['bore'].fillna(df['bore'].mean())\n",
    "df['stroke'] = df['stroke'].fillna(df['stroke'].mean())\n",
    "#Horsepower, peak rpm y price considero que es muy importante entonces no lo promedio, mejor lo elimino\n",
    "df.dropna(subset = ['horsepower', 'peak-rpm', 'price'], inplace = True)\n",
    "\n",
    "print(df.isnull().sum())\n"
   ]
  },
  {
   "cell_type": "code",
   "execution_count": null,
   "metadata": {},
   "outputs": [],
   "source": [
    "print(df.dtypes)"
   ]
  },
  {
   "cell_type": "code",
   "execution_count": null,
   "metadata": {},
   "outputs": [],
   "source": [
    "#Modifiquemos los tipos de datos de las columnas que sean necesarias\n",
    "df['normalized-losses'] = df['normalized-losses'].astype(int)\n",
    "df['num-of-doors'] = df['num-of-doors'].astype('category')\n",
    "df['horsepower'] = df['horsepower'].astype(int)\n",
    "df['peak-rpm'] = df['peak-rpm'].astype(int)\n",
    "print(df.dtypes)"
   ]
  },
  {
   "cell_type": "code",
   "execution_count": null,
   "metadata": {},
   "outputs": [],
   "source": [
    "#Ahora trataremos los outliers\n",
    "sns.boxplot(data = df[['horsepower', 'city-mpg', 'highway-mpg']])\n",
    "plt.show()"
   ]
  },
  {
   "cell_type": "code",
   "execution_count": null,
   "metadata": {},
   "outputs": [],
   "source": [
    "#Considero que estos valores son posibles así que no los elimino\n",
    "#Ahora haremos un análisis de correlación entre las variables\n",
    "df_numeric = df.select_dtypes(include = ['int64', 'float64'])\n",
    "corr_matrix = df_numeric.corr(method = 'pearson') \n",
    "plt.figure(figsize = (12, 10))\n",
    "sns.heatmap(corr_matrix, annot = True, cmap = 'coolwarm')\n",
    "plt.show()"
   ]
  },
  {
   "cell_type": "code",
   "execution_count": null,
   "metadata": {},
   "outputs": [],
   "source": [
    "results = {} \n",
    "#Ahora seleccionaremos las variables que vamos a usar\n",
    "X = df.drop(['price'], axis = 1) \n",
    "y = df['price'].astype(float)\n",
    "\n",
    "#Dividimos el conjunto de datos en entrenamiento y prueba\n",
    "X_train, X_test, y_train, y_test = train_test_split(X, y, test_size = 0.2, random_state = 42)\n",
    "\n",
    "#Debemos dividir las columnas categóricas y numéricas\n",
    "categorical_features = X.select_dtypes(include = ['object']).columns\n",
    "numerical_features = X.select_dtypes(include=['number']).columns\n",
    "\n",
    "#Creamos el preprocesador usando ColumnTransformer\n",
    "preprocessor = ColumnTransformer(\n",
    "    transformers = [\n",
    "        ('num', StandardScaler(), numerical_features),\n",
    "        ('cat', OneHotEncoder(handle_unknown = 'ignore'), categorical_features)\n",
    "    ]\n",
    ")\n",
    "#Creamos el pipeline para la regresión lineal\n",
    "pipeline = Pipeline(steps=[\n",
    "    ('preprocessor', preprocessor),\n",
    "    ('regressor', LinearRegression())\n",
    "])\n",
    "\n",
    "#Ajustamos el modelo a los datos de entrenamiento\n",
    "pipeline.fit(X_train, y_train)\n",
    "\n",
    "#Realizamos las predicciones\n",
    "y_pred = pipeline.predict(X_test)\n",
    "#Evaluamos el rendimiento (MSE y R2)\n",
    "mse = mean_squared_error(y_test, y_pred)\n",
    "r2 = r2_score(y_test, y_pred)\n",
    "results['Regresión lineal'] = {'MSE': mse, 'R2': r2}\n",
    "print(f'Regresión lineal - MSE: {mse:.2f}, R2: {r2:.2f}')\n",
    "\n",
    "#Ahora vamos con el K-Nearest Neighbors\n",
    "#Creamos el pipeline para el KNN\n",
    "pipeline = Pipeline(steps=[\n",
    "    ('preprocessor', preprocessor),\n",
    "    ('regressor', KNeighborsRegressor(n_neighbors = 5))\n",
    "])\n",
    "\n",
    "#Entrenamos el modelo\n",
    "pipeline.fit(X_train, y_train)\n",
    "\n",
    "#Realizamos las predicciones\n",
    "y_pred = pipeline.predict(X_test)\n",
    "\n",
    "#Evaluamos el rendimiento (MSE y R2)\n",
    "mse = mean_squared_error(y_test, y_pred)\n",
    "r2 = r2_score(y_test, y_pred)\n",
    "results['KNN'] = {'MSE': mse, 'R2': r2}\n",
    "print(f'KNN - MSE: {mse:.2f}, R2: {r2:.2f}')\n",
    "\n",
    "#Ahora vamos el el árbol de decisión\n",
    "pipeline = Pipeline(steps=[\n",
    "    ('preprocessor', preprocessor),\n",
    "    ('regressor', DecisionTreeRegressor(random_state = 0))\n",
    "])\n",
    "\n",
    "#Entrenamos el modelo\n",
    "pipeline.fit(X_train, y_train)\n",
    "y_pred = pipeline.predict(X_test)\n",
    "\n",
    "#Evaluamos el rendimiento (MSE y R2)\n",
    "mse = mean_squared_error(y_test, y_pred)\n",
    "r2 = r2_score(y_test, y_pred)\n",
    "results['Arbol de decisión'] = {'MSE': mse, 'R2': r2}\n",
    "print(f'Arbol de decisión: - MSE: {mse:.2f}, R2: {r2:.2f}')"
   ]
  },
  {
   "cell_type": "code",
   "execution_count": null,
   "metadata": {},
   "outputs": [],
   "source": [
    "#Ahora comparamos los resultados de los tres modelos\n",
    "results_df = pd.DataFrame(results).T\n",
    "print(results_df)"
   ]
  },
  {
   "cell_type": "markdown",
   "metadata": {},
   "source": [
    "El análisis indica que el Árbol de Decisión es el modelo más adecuado, con el menor error (MSE) y un R² de 0.88, lo que demuestra su capacidad para explicar la mayoría de la variabilidad en los datos. En contraste, el KNN tiene un rendimiento moderado, y la Regresión Lineal presenta resultados deficientes. Para mejorar, se recomienda realizar validación cruzada, ajustar los hiperparámetros del Árbol de Decisión para evitar sobreajuste y probar modelos más avanzados como Random Forest o Gradient Boosting, optimizando así la precisión y robustez del modelo."
   ]
  }
 ],
 "metadata": {
  "kernelspec": {
   "display_name": "base",
   "language": "python",
   "name": "python3"
  },
  "language_info": {
   "codemirror_mode": {
    "name": "ipython",
    "version": 3
   },
   "file_extension": ".py",
   "mimetype": "text/x-python",
   "name": "python",
   "nbconvert_exporter": "python",
   "pygments_lexer": "ipython3",
   "version": "3.12.4"
  }
 },
 "nbformat": 4,
 "nbformat_minor": 2
}
